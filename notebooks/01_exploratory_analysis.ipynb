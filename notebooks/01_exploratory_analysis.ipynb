{
 "cells": [
  {
   "cell_type": "code",
   "execution_count": 1,
   "id": "eb35fe30",
   "metadata": {},
   "outputs": [],
   "source": [
    "import sys\n",
    "sys.path.append('../src')\n",
    "\n",
    "import pandas as pd\n",
    "import numpy as np\n",
    "import matplotlib.pyplot as plt\n",
    "import seaborn as sns\n",
    "from data_loader import CovidDataLoader\n",
    "from analysis import CovidAnalysis\n",
    "from visualization import CovidVisualizer"
   ]
  },
  {
   "cell_type": "markdown",
   "id": "7f1a18ff",
   "metadata": {},
   "source": [
    "## Initialize classes"
   ]
  },
  {
   "cell_type": "code",
   "execution_count": 2,
   "id": "33d6195a",
   "metadata": {},
   "outputs": [],
   "source": [
    "\n",
    "loader = CovidDataLoader()\n",
    "visualizer = CovidVisualizer()"
   ]
  },
  {
   "cell_type": "code",
   "execution_count": 3,
   "id": "771939ed",
   "metadata": {},
   "outputs": [
    {
     "name": "stdout",
     "output_type": "stream",
     "text": [
      "Downloading COVID-19 data...\n",
      "Downloaded confirmed data\n",
      "Downloaded deaths data\n",
      "Downloaded recovered data\n"
     ]
    }
   ],
   "source": [
    "# Download and load data\n",
    "print(\"Downloading COVID-19 data...\")\n",
    "loader.download_data()"
   ]
  },
  {
   "cell_type": "code",
   "execution_count": 4,
   "id": "b22c8991",
   "metadata": {},
   "outputs": [
    {
     "name": "stdout",
     "output_type": "stream",
     "text": [
      "Loading data...\n"
     ]
    }
   ],
   "source": [
    "print(\"Loading data...\")\n",
    "raw_data = loader.load_data()"
   ]
  },
  {
   "cell_type": "code",
   "execution_count": 5,
   "id": "0b661a45",
   "metadata": {},
   "outputs": [
    {
     "name": "stdout",
     "output_type": "stream",
     "text": [
      "Preprocessing data...\n"
     ]
    },
    {
     "name": "stderr",
     "output_type": "stream",
     "text": [
      "c:\\Users\\Administrateur\\Documents\\Projects\\Projects and Portfolio\\Covid19_Analysis\\notebooks\\../src\\data_loader.py:65: UserWarning: Could not infer format, so each element will be parsed individually, falling back to `dateutil`. To ensure parsing is consistent and as-expected, please specify a format.\n",
      "  melted_df[\"Date\"] = pd.to_datetime(melted_df[\"Date\"])\n",
      "c:\\Users\\Administrateur\\Documents\\Projects\\Projects and Portfolio\\Covid19_Analysis\\notebooks\\../src\\data_loader.py:65: UserWarning: Could not infer format, so each element will be parsed individually, falling back to `dateutil`. To ensure parsing is consistent and as-expected, please specify a format.\n",
      "  melted_df[\"Date\"] = pd.to_datetime(melted_df[\"Date\"])\n",
      "c:\\Users\\Administrateur\\Documents\\Projects\\Projects and Portfolio\\Covid19_Analysis\\notebooks\\../src\\data_loader.py:65: UserWarning: Could not infer format, so each element will be parsed individually, falling back to `dateutil`. To ensure parsing is consistent and as-expected, please specify a format.\n",
      "  melted_df[\"Date\"] = pd.to_datetime(melted_df[\"Date\"])\n"
     ]
    }
   ],
   "source": [
    "print(\"Preprocessing data...\")\n",
    "processed_data = loader.preprocess_data(raw_data)"
   ]
  },
  {
   "cell_type": "code",
   "execution_count": 6,
   "id": "b48b2880",
   "metadata": {},
   "outputs": [
    {
     "name": "stdout",
     "output_type": "stream",
     "text": [
      "Merging data...\n"
     ]
    }
   ],
   "source": [
    "print(\"Merging data...\")\n",
    "merged_data = loader.get_merged_data(processed_data)"
   ]
  },
  {
   "cell_type": "markdown",
   "id": "3e74527c",
   "metadata": {},
   "source": [
    "### Initialize analysis"
   ]
  },
  {
   "cell_type": "code",
   "execution_count": 7,
   "id": "53b7217b",
   "metadata": {},
   "outputs": [],
   "source": [
    "\n",
    "analyzer = CovidAnalysis(merged_data)"
   ]
  },
  {
   "cell_type": "code",
   "execution_count": 8,
   "id": "5b00f554",
   "metadata": {},
   "outputs": [
    {
     "name": "stdout",
     "output_type": "stream",
     "text": [
      "Global Summary:\n",
      "Total_Confirmed: 676570149\n",
      "Total_Deaths: 6881802\n",
      "Total_Recovered: 0\n",
      "Total_Active: 669688347\n",
      "Global_Death_Rate: 1.02\n",
      "Number_of_Countries: 201\n"
     ]
    }
   ],
   "source": [
    "# Global summary\n",
    "summary = analyzer.get_global_summary()\n",
    "print(\"Global Summary:\")\n",
    "for key, value in summary.items():\n",
    "    print(f\"{key}: {value}\")"
   ]
  },
  {
   "cell_type": "code",
   "execution_count": 9,
   "id": "73330441",
   "metadata": {},
   "outputs": [],
   "source": [
    "# Top countries analysis\n",
    "top_countries_cases = analyzer.get_top_countries_by_cases(10)\n",
    "top_countries_death_rate = analyzer.get_top_countries_by_death_rate(10)\n"
   ]
  },
  {
   "cell_type": "code",
   "execution_count": 10,
   "id": "239de1ca",
   "metadata": {},
   "outputs": [
    {
     "name": "stdout",
     "output_type": "stream",
     "text": [
      "\n",
      "Top 10 Countries by Confirmed Cases:\n",
      "        Country/Region  Confirmed   Deaths  Recovered  Death_Rate\n",
      "213740              US  103802702  1123836          0        1.08\n",
      "92582            India   44690738   530779          0        1.19\n",
      "73151           France   39866718   166176          0        0.42\n",
      "77723          Germany   38249060   168935          0        0.44\n",
      "28574           Brazil   37076053   699276          0        1.89\n",
      "101726           Japan   33320438    72997          0        0.22\n",
      "108584    Korea, South   30615522    34093          0        0.11\n",
      "99440            Italy   25603510   188322          0        0.74\n",
      "218312  United Kingdom   24658705   220721          0        0.90\n",
      "169163          Russia   22075858   388478          0        1.76\n"
     ]
    }
   ],
   "source": [
    "print(\"\\nTop 10 Countries by Confirmed Cases:\")\n",
    "print(top_countries_cases)"
   ]
  },
  {
   "cell_type": "code",
   "execution_count": 11,
   "id": "8c62f686",
   "metadata": {},
   "outputs": [
    {
     "name": "stdout",
     "output_type": "stream",
     "text": [
      "\n",
      "Top 10 Countries by Death Rate (min 1000 cases):\n",
      "                Country/Region  Confirmed  Deaths  Death_Rate\n",
      "227456                   Yemen      11945    2159       18.07\n",
      "194309                   Sudan      63829    5017        7.86\n",
      "200024                   Syria      57467    3164        5.51\n",
      "188594                 Somalia      27324    1361        4.98\n",
      "162305                    Peru    4487553  219539        4.89\n",
      "62864                    Egypt     515759   24812        4.81\n",
      "134873                  Mexico    7483444  333188        4.45\n",
      "26288   Bosnia and Herzegovina     401729   16280        4.05\n",
      "1142               Afghanistan     209451    7896        3.77\n",
      "117728                 Liberia       8090     295        3.65\n"
     ]
    }
   ],
   "source": [
    "print(\"\\nTop 10 Countries by Death Rate (min 1000 cases):\")\n",
    "print(top_countries_death_rate)"
   ]
  },
  {
   "cell_type": "markdown",
   "id": "26058c21",
   "metadata": {},
   "source": [
    "### Visualizations"
   ]
  },
  {
   "cell_type": "code",
   "execution_count": 12,
   "id": "c06aca8c",
   "metadata": {},
   "outputs": [
    {
     "data": {
      "image/png": "[encoded data removed]",
      "text/plain": [
       "<Figure size 1200x800 with 1 Axes>"
      ]
     },
     "metadata": {},
     "output_type": "display_data"
    }
   ],
   "source": [
    "fig1 = visualizer.plot_top_countries(top_countries_cases, 'Confirmed', 'Confirmed Cases')\n",
    "plt.show()"
   ]
  },
  {
   "cell_type": "code",
   "execution_count": 13,
   "id": "4579a72f",
   "metadata": {},
   "outputs": [
    {
     "data": {
      "image/png": "[encoded data removed]",
      "text/plain": [
       "<Figure size 1200x800 with 1 Axes>"
      ]
     },
     "metadata": {},
     "output_type": "display_data"
    }
   ],
   "source": [
    "fig2 = visualizer.plot_top_countries(top_countries_death_rate, 'Death_Rate', 'Death Rate (%)')\n",
    "plt.show()"
   ]
  },
  {
   "cell_type": "code",
   "execution_count": 14,
   "id": "ef6f4d6b",
   "metadata": {},
   "outputs": [
    {
     "data": {
      "application/vnd.plotly.v1+json": {
       "config": {
        "plotlyServerURL": "https://plot.ly"
       },
       "data": [
        {
         "customdata": {
          "bdata": "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",
          "dtype": "f8",
          "shape": "201, 5"
         },
         "geo": "geo",
         "hovertemplate": "<b>%{hovertext}</b><br><br>Confirmed=%{customdata[0]}<br>Deaths=%{customdata[1]}<br>Death_Rate=%{marker.color}<extra></extra>",
         "hovertext": [
          "Afghanistan",
          "Albania",
          "Algeria",
          "Andorra",
          "Angola",
          "Antarctica",
          "Antigua and Barbuda",
          "Argentina",
          "Armenia",
          "Australia",
          "Austria",
          "Azerbaijan",
          "Bahamas",
          "Bahrain",
          "Bangladesh",
          "Barbados",
          "Belarus",
          "Belgium",
          "Belize",
          "Benin",
          "Bhutan",
          "Bolivia",
          "Bosnia and Herzegovina",
          "Botswana",
          "Brazil",
          "Brunei",
          "Bulgaria",
          "Burkina Faso",
          "Burma",
          "Burundi",
          "Cabo Verde",
          "Cambodia",
          "Cameroon",
          "Canada",
          "Central African Republic",
          "Chad",
          "Chile",
          "China",
          "Colombia",
          "Comoros",
          "Congo (Brazzaville)",
          "Congo (Kinshasa)",
          "Costa Rica",
          "Cote d'Ivoire",
          "Croatia",
          "Cuba",
          "Cyprus",
          "Czechia",
          "Denmark",
          "Diamond Princess",
          "Djibouti",
          "Dominica",
          "Dominican Republic",
          "Ecuador",
          "Egypt",
          "El Salvador",
          "Equatorial Guinea",
          "Eritrea",
          "Estonia",
          "Eswatini",
          "Ethiopia",
          "Fiji",
          "Finland",
          "France",
          "Gabon",
          "Gambia",
          "Georgia",
          "Germany",
          "Ghana",
          "Greece",
          "Grenada",
          "Guatemala",
          "Guinea",
          "Guinea-Bissau",
          "Guyana",
          "Haiti",
          "Holy See",
          "Honduras",
          "Hungary",
          "Iceland",
          "India",
          "Indonesia",
          "Iran",
          "Iraq",
          "Ireland",
          "Israel",
          "Italy",
          "Jamaica",
          "Japan",
          "Jordan",
          "Kazakhstan",
          "Kenya",
          "Kiribati",
          "Korea, North",
          "Korea, South",
          "Kosovo",
          "Kuwait",
          "Kyrgyzstan",
          "Laos",
          "Latvia",
          "Lebanon",
          "Lesotho",
          "Liberia",
          "Libya",
          "Liechtenstein",
          "Lithuania",
          "Luxembourg",
          "MS Zaandam",
          "Madagascar",
          "Malawi",
          "Malaysia",
          "Maldives",
          "Mali",
          "Malta",
          "Marshall Islands",
          "Mauritania",
          "Mauritius",
          "Mexico",
          "Micronesia",
          "Moldova",
          "Monaco",
          "Mongolia",
          "Montenegro",
          "Morocco",
          "Mozambique",
          "Namibia",
          "Nauru",
          "Nepal",
          "Netherlands",
          "New Zealand",
          "Nicaragua",
          "Niger",
          "Nigeria",
          "North Macedonia",
          "Norway",
          "Oman",
          "Pakistan",
          "Palau",
          "Panama",
          "Papua New Guinea",
          "Paraguay",
          "Peru",
          "Philippines",
          "Poland",
          "Portugal",
          "Qatar",
          "Romania",
          "Russia",
          "Rwanda",
          "Saint Kitts and Nevis",
          "Saint Lucia",
          "Saint Vincent and the Grenadines",
          "Samoa",
          "San Marino",
          "Sao Tome and Principe",
          "Saudi Arabia",
          "Senegal",
          "Serbia",
          "Seychelles",
          "Sierra Leone",
          "Singapore",
          "Slovakia",
          "Slovenia",
          "Solomon Islands",
          "Somalia",
          "South Africa",
          "South Sudan",
          "Spain",
          "Sri Lanka",
          "Sudan",
          "Summer Olympics 2020",
          "Suriname",
          "Sweden",
          "Switzerland",
          "Syria",
          "Taiwan*",
          "Tajikistan",
          "Tanzania",
          "Thailand",
          "Timor-Leste",
          "Togo",
          "Tonga",
          "Trinidad and Tobago",
          "Tunisia",
          "Turkey",
          "Tuvalu",
          "US",
          "Uganda",
          "Ukraine",
          "United Arab Emirates",
          "United Kingdom",
          "Uruguay",
          "Uzbekistan",
          "Vanuatu",
          "Venezuela",
          "Vietnam",
          "West Bank and Gaza",
          "Winter Olympics 2022",
          "Yemen",
          "Zambia",
          "Zimbabwe"
         ],
         "lat": {
          "bdata": "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",
          "dtype": "f8"
         },
         "legendgroup": "",
         "lon": {
          "bdata": "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",
          "dtype": "f8"
         },
         "marker": {
          "color": {
           "bdata": "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",
           "dtype": "f8"
          },
          "coloraxis": "coloraxis",
          "size": {
           "bdata": "KzIDAHkaBQCIJAQAErsAAEibAQALAAAAkiMAAB1GmQBM0wYAJPGtALf1WgCZpQwAc5IAACXYCgBvGB8ALqEBAPUqDwAlUUgAZRQBAF9tAACj9AAAJTkSAEEhBgAeCAUAVbw1Am1EBABzzBMAKFYAAF6sCQB/0QAADPcAAN8dAgDo5QEAh3NGAAg8AAD/HQAAXjpPAGTSSgA1CGEAMCMAAP9hAAAFdgEAfXUSAMdYAQBOXhMAQ/oQAL3tCQAQeEYAnKg0AMgCAABKPQAAkD0AADYVCgBhIRAAr94HADkUAwBNQwAAzScAAAlkCQAbIgEAlKEHACINAQBcVRYAXlFgAlW/AAA2MQAA0eIbAGSiRwLdnAIAx6lUAOBMAADn5BIAe5UAAAAjAABzHQEAmoUAAB0AAAC6NAcARIUhAPEwAwAy7akCMdFmAFeLcwAJnyUANgIaAPBMSQC2rYYBMFsCAPZt/AE1qBoALN4WAJk7BQCWEwAAAQAAAOIn0wGgKwQANCEKAHQnAwCnUwMAf+UOALzPEgDmhwAAmh8AADO9BwC4UwAAOPMTALfXBAAJAAAAMQkBAINaAQDu+UwAitUCACaBAABqywEAIT0AALT4AABqhAQANDByAIxdAABEUwkA+T4AABxhDwAoaAQAqmoTAP6OAwCUnAIAfxQAAMJGDwCD8oQA0h4iACc9AAAkJQAAZhEEAORKBQBSkxYAWRgGAMMRGABnFwAAM74PAOm2AADRVQwAgXlEAIw3PgCgV2IAqf9UAPKNBwB+DjMA0tlQAUoIAgDFGQAANHUAAHUlAADfQAAAQFwAAIkYAACvqgwAXlsBAC4mJgDpxQAAUB4AAJ4bIgAftCgA+1EUAP9fAAC8agAA+w4+AMBHAAC9HtIAJ0EKAFX5AABhAwAAI0IBAEswKQDXWUMAe+AAAPkkmAB6RQAAmqcAAHYlSAB7WwAA5JkAAKpBAADe5QIAlpARACINBAH1CgAATucvBjCaAgA5KFcAHRIQABFDeAE/yA8Ab9UDAO4uAADibAgAUuOvAPy6CgAXAgAAqS4AAF88BQBUCAQA",
           "dtype": "i4"
          },
          "sizemode": "area",
          "sizeref": 41521.0808,
          "symbol": "circle"
         },
         "mode": "markers",
         "name": "",
         "showlegend": false,
         "type": "scattergeo"
        }
       ],
       "layout": {
        "coloraxis": {
         "colorbar": {
          "title": {
           "text": "Death_Rate"
          }
         },
         "colorscale": [
          [
           0,
           "#440154"
          ],
          [
           0.1111111111111111,
           "#482878"
          ],
          [
           0.2222222222222222,
           "#3e4989"
          ],
          [
           0.3333333333333333,
           "#31688e"
          ],
          [
           0.4444444444444444,
           "#26828e"
          ],
          [
           0.5555555555555556,
           "#1f9e89"
          ],
          [
           0.6666666666666666,
           "#35b779"
          ],
          [
           0.7777777777777778,
           "#6ece58"
          ],
          [
           0.8888888888888888,
           "#b5de2b"
          ],
          [
           1,
           "#fde725"
          ]
         ]
        },
        "geo": {
         "center": {},
         "domain": {
          "x": [
           0,
           1
          ],
          "y": [
           0,
           1
          ]
         },
         "showcoastlines": true,
         "showframe": false
        },
        "legend": {
         "itemsizing": "constant",
         "tracegroupgap": 0
        },
        "template": {
         "data": {
          "bar": [
           {
            "error_x": {
             "color": "#2a3f5f"
            },
            "error_y": {
             "color": "#2a3f5f"
            },
            "marker": {
             "line": {
              "color": "#E5ECF6",
              "width": 0.5
             },
             "pattern": {
              "fillmode": "overlay",
              "size": 10,
              "solidity": 0.2
             }
            },
            "type": "bar"
           }
          ],
          "barpolar": [
           {
            "marker": {
             "line": {
              "color": "#E5ECF6",
              "width": 0.5
             },
             "pattern": {
              "fillmode": "overlay",
              "size": 10,
              "solidity": 0.2
             }
            },
            "type": "barpolar"
           }
          ],
          "carpet": [
           {
            "aaxis": {
             "endlinecolor": "#2a3f5f",
             "gridcolor": "white",
             "linecolor": "white",
             "minorgridcolor": "white",
             "startlinecolor": "#2a3f5f"
            },
            "baxis": {
             "endlinecolor": "#2a3f5f",
             "gridcolor": "white",
             "linecolor": "white",
             "minorgridcolor": "white",
             "startlinecolor": "#2a3f5f"
            },
            "type": "carpet"
           }
          ],
          "choropleth": [
           {
            "colorbar": {
             "outlinewidth": 0,
             "ticks": ""
            },
            "type": "choropleth"
           }
          ],
          "contour": [
           {
            "colorbar": {
             "outlinewidth": 0,
             "ticks": ""
            },
            "colorscale": [
             [
              0,
              "#0d0887"
             ],
             [
              0.1111111111111111,
              "#46039f"
             ],
             [
              0.2222222222222222,
              "#7201a8"
             ],
             [
              0.3333333333333333,
              "#9c179e"
             ],
             [
              0.4444444444444444,
              "#bd3786"
             ],
             [
              0.5555555555555556,
              "#d8576b"
             ],
             [
              0.6666666666666666,
              "#ed7953"
             ],
             [
              0.7777777777777778,
              "#fb9f3a"
             ],
             [
              0.8888888888888888,
              "#fdca26"
             ],
             [
              1,
              "#f0f921"
             ]
            ],
            "type": "contour"
           }
          ],
          "contourcarpet": [
           {
            "colorbar": {
             "outlinewidth": 0,
             "ticks": ""
            },
            "type": "contourcarpet"
           }
          ],
          "heatmap": [
           {
            "colorbar": {
             "outlinewidth": 0,
             "ticks": ""
            },
            "colorscale": [
             [
              0,
              "#0d0887"
             ],
             [
              0.1111111111111111,
              "#46039f"
             ],
             [
              0.2222222222222222,
              "#7201a8"
             ],
             [
              0.3333333333333333,
              "#9c179e"
             ],
             [
              0.4444444444444444,
              "#bd3786"
             ],
             [
              0.5555555555555556,
              "#d8576b"
             ],
             [
              0.6666666666666666,
              "#ed7953"
             ],
             [
              0.7777777777777778,
              "#fb9f3a"
             ],
             [
              0.8888888888888888,
              "#fdca26"
             ],
             [
              1,
              "#f0f921"
             ]
            ],
            "type": "heatmap"
           }
          ],
          "histogram": [
           {
            "marker": {
             "pattern": {
              "fillmode": "overlay",
              "size": 10,
              "solidity": 0.2
             }
            },
            "type": "histogram"
           }
          ],
          "histogram2d": [
           {
            "colorbar": {
             "outlinewidth": 0,
             "ticks": ""
            },
            "colorscale": [
             [
              0,
              "#0d0887"
             ],
             [
              0.1111111111111111,
              "#46039f"
             ],
             [
              0.2222222222222222,
              "#7201a8"
             ],
             [
              0.3333333333333333,
              "#9c179e"
             ],
             [
              0.4444444444444444,
              "#bd3786"
             ],
             [
              0.5555555555555556,
              "#d8576b"
             ],
             [
              0.6666666666666666,
              "#ed7953"
             ],
             [
              0.7777777777777778,
              "#fb9f3a"
             ],
             [
              0.8888888888888888,
              "#fdca26"
             ],
             [
              1,
              "#f0f921"
             ]
            ],
            "type": "histogram2d"
           }
          ],
          "histogram2dcontour": [
           {
            "colorbar": {
             "outlinewidth": 0,
             "ticks": ""
            },
            "colorscale": [
             [
              0,
              "#0d0887"
             ],
             [
              0.1111111111111111,
              "#46039f"
             ],
             [
              0.2222222222222222,
              "#7201a8"
             ],
             [
              0.3333333333333333,
              "#9c179e"
             ],
             [
              0.4444444444444444,
              "#bd3786"
             ],
             [
              0.5555555555555556,
              "#d8576b"
             ],
             [
              0.6666666666666666,
              "#ed7953"
             ],
             [
              0.7777777777777778,
              "#fb9f3a"
             ],
             [
              0.8888888888888888,
              "#fdca26"
             ],
             [
              1,
              "#f0f921"
             ]
            ],
            "type": "histogram2dcontour"
           }
          ],
          "mesh3d": [
           {
            "colorbar": {
             "outlinewidth": 0,
             "ticks": ""
            },
            "type": "mesh3d"
           }
          ],
          "parcoords": [
           {
            "line": {
             "colorbar": {
              "outlinewidth": 0,
              "ticks": ""
             }
            },
            "type": "parcoords"
           }
          ],
          "pie": [
           {
            "automargin": true,
            "type": "pie"
           }
          ],
          "scatter": [
           {
            "fillpattern": {
             "fillmode": "overlay",
             "size": 10,
             "solidity": 0.2
            },
            "type": "scatter"
           }
          ],
          "scatter3d": [
           {
            "line": {
             "colorbar": {
              "outlinewidth": 0,
              "ticks": ""
             }
            },
            "marker": {
             "colorbar": {
              "outlinewidth": 0,
              "ticks": ""
             }
            },
            "type": "scatter3d"
           }
          ],
          "scattercarpet": [
           {
            "marker": {
             "colorbar": {
              "outlinewidth": 0,
              "ticks": ""
             }
            },
            "type": "scattercarpet"
           }
          ],
          "scattergeo": [
           {
            "marker": {
             "colorbar": {
              "outlinewidth": 0,
              "ticks": ""
             }
            },
            "type": "scattergeo"
           }
          ],
          "scattergl": [
           {
            "marker": {
             "colorbar": {
              "outlinewidth": 0,
              "ticks": ""
             }
            },
            "type": "scattergl"
           }
          ],
          "scattermap": [
           {
            "marker": {
             "colorbar": {
              "outlinewidth": 0,
              "ticks": ""
             }
            },
            "type": "scattermap"
           }
          ],
          "scattermapbox": [
           {
            "marker": {
             "colorbar": {
              "outlinewidth": 0,
              "ticks": ""
             }
            },
            "type": "scattermapbox"
           }
          ],
          "scatterpolar": [
           {
            "marker": {
             "colorbar": {
              "outlinewidth": 0,
              "ticks": ""
             }
            },
            "type": "scatterpolar"
           }
          ],
          "scatterpolargl": [
           {
            "marker": {
             "colorbar": {
              "outlinewidth": 0,
              "ticks": ""
             }
            },
            "type": "scatterpolargl"
           }
          ],
          "scatterternary": [
           {
            "marker": {
             "colorbar": {
              "outlinewidth": 0,
              "ticks": ""
             }
            },
            "type": "scatterternary"
           }
          ],
          "surface": [
           {
            "colorbar": {
             "outlinewidth": 0,
             "ticks": ""
            },
            "colorscale": [
             [
              0,
              "#0d0887"
             ],
             [
              0.1111111111111111,
              "#46039f"
             ],
             [
              0.2222222222222222,
              "#7201a8"
             ],
             [
              0.3333333333333333,
              "#9c179e"
             ],
             [
              0.4444444444444444,
              "#bd3786"
             ],
             [
              0.5555555555555556,
              "#d8576b"
             ],
             [
              0.6666666666666666,
              "#ed7953"
             ],
             [
              0.7777777777777778,
              "#fb9f3a"
             ],
             [
              0.8888888888888888,
              "#fdca26"
             ],
             [
              1,
              "#f0f921"
             ]
            ],
            "type": "surface"
           }
          ],
          "table": [
           {
            "cells": {
             "fill": {
              "color": "#EBF0F8"
             },
             "line": {
              "color": "white"
             }
            },
            "header": {
             "fill": {
              "color": "#C8D4E3"
             },
             "line": {
              "color": "white"
             }
            },
            "type": "table"
           }
          ]
         },
         "layout": {
          "annotationdefaults": {
           "arrowcolor": "#2a3f5f",
           "arrowhead": 0,
           "arrowwidth": 1
          },
          "autotypenumbers": "strict",
          "coloraxis": {
           "colorbar": {
            "outlinewidth": 0,
            "ticks": ""
           }
          },
          "colorscale": {
           "diverging": [
            [
             0,
             "#8e0152"
            ],
            [
             0.1,
             "#c51b7d"
            ],
            [
             0.2,
             "#de77ae"
            ],
            [
             0.3,
             "#f1b6da"
            ],
            [
             0.4,
             "#fde0ef"
            ],
            [
             0.5,
             "#f7f7f7"
            ],
            [
             0.6,
             "#e6f5d0"
            ],
            [
             0.7,
             "#b8e186"
            ],
            [
             0.8,
             "#7fbc41"
            ],
            [
             0.9,
             "#4d9221"
            ],
            [
             1,
             "#276419"
            ]
           ],
           "sequential": [
            [
             0,
             "#0d0887"
            ],
            [
             0.1111111111111111,
             "#46039f"
            ],
            [
             0.2222222222222222,
             "#7201a8"
            ],
            [
             0.3333333333333333,
             "#9c179e"
            ],
            [
             0.4444444444444444,
             "#bd3786"
            ],
            [
             0.5555555555555556,
             "#d8576b"
            ],
            [
             0.6666666666666666,
             "#ed7953"
            ],
            [
             0.7777777777777778,
             "#fb9f3a"
            ],
            [
             0.8888888888888888,
             "#fdca26"
            ],
            [
             1,
             "#f0f921"
            ]
           ],
           "sequentialminus": [
            [
             0,
             "#0d0887"
            ],
            [
             0.1111111111111111,
             "#46039f"
            ],
            [
             0.2222222222222222,
             "#7201a8"
            ],
            [
             0.3333333333333333,
             "#9c179e"
            ],
            [
             0.4444444444444444,
             "#bd3786"
            ],
            [
             0.5555555555555556,
             "#d8576b"
            ],
            [
             0.6666666666666666,
             "#ed7953"
            ],
            [
             0.7777777777777778,
             "#fb9f3a"
            ],
            [
             0.8888888888888888,
             "#fdca26"
            ],
            [
             1,
             "#f0f921"
            ]
           ]
          },
          "colorway": [
           "#636efa",
           "#EF553B",
           "#00cc96",
           "#ab63fa",
           "#FFA15A",
           "#19d3f3",
           "#FF6692",
           "#B6E880",
           "#FF97FF",
           "#FECB52"
          ],
          "font": {
           "color": "#2a3f5f"
          },
          "geo": {
           "bgcolor": "white",
           "lakecolor": "white",
           "landcolor": "#E5ECF6",
           "showlakes": true,
           "showland": true,
           "subunitcolor": "white"
          },
          "hoverlabel": {
           "align": "left"
          },
          "hovermode": "closest",
          "mapbox": {
           "style": "light"
          },
          "paper_bgcolor": "white",
          "plot_bgcolor": "#E5ECF6",
          "polar": {
           "angularaxis": {
            "gridcolor": "white",
            "linecolor": "white",
            "ticks": ""
           },
           "bgcolor": "#E5ECF6",
           "radialaxis": {
            "gridcolor": "white",
            "linecolor": "white",
            "ticks": ""
           }
          },
          "scene": {
           "xaxis": {
            "backgroundcolor": "#E5ECF6",
            "gridcolor": "white",
            "gridwidth": 2,
            "linecolor": "white",
            "showbackground": true,
            "ticks": "",
            "zerolinecolor": "white"
           },
           "yaxis": {
            "backgroundcolor": "#E5ECF6",
            "gridcolor": "white",
            "gridwidth": 2,
            "linecolor": "white",
            "showbackground": true,
            "ticks": "",
            "zerolinecolor": "white"
           },
           "zaxis": {
            "backgroundcolor": "#E5ECF6",
            "gridcolor": "white",
            "gridwidth": 2,
            "linecolor": "white",
            "showbackground": true,
            "ticks": "",
            "zerolinecolor": "white"
           }
          },
          "shapedefaults": {
           "line": {
            "color": "#2a3f5f"
           }
          },
          "ternary": {
           "aaxis": {
            "gridcolor": "white",
            "linecolor": "white",
            "ticks": ""
           },
           "baxis": {
            "gridcolor": "white",
            "linecolor": "white",
            "ticks": ""
           },
           "bgcolor": "#E5ECF6",
           "caxis": {
            "gridcolor": "white",
            "linecolor": "white",
            "ticks": ""
           }
          },
          "title": {
           "x": 0.05
          },
          "xaxis": {
           "automargin": true,
           "gridcolor": "white",
           "linecolor": "white",
           "ticks": "",
           "title": {
            "standoff": 15
           },
           "zerolinecolor": "white",
           "zerolinewidth": 2
          },
          "yaxis": {
           "automargin": true,
           "gridcolor": "white",
           "linecolor": "white",
           "ticks": "",
           "title": {
            "standoff": 15
           },
           "zerolinecolor": "white",
           "zerolinewidth": 2
          }
         }
        },
        "title": {
         "text": "Global COVID-19 Distribution on 2023-03-09"
        }
       }
      }
     },
     "metadata": {},
     "output_type": "display_data"
    },
    {
     "name": "stdout",
     "output_type": "stream",
     "text": [
      "Data Exploration and analysis done!\n"
     ]
    }
   ],
   "source": [
    "# Interactive global map\n",
    "map_fig = visualizer.plot_interactive_global_map(merged_data)\n",
    "map_fig.show()\n",
    "print(\"Data Exploration and analysis done!\")"
   ]
  }
 ],
 "metadata": {
  "kernelspec": {
   "display_name": "Python 3",
   "language": "python",
   "name": "python3"
  },
  "language_info": {
   "codemirror_mode": {
    "name": "ipython",
    "version": 3
   },
   "file_extension": ".py",
   "mimetype": "text/x-python",
   "name": "python",
   "nbconvert_exporter": "python",
   "pygments_lexer": "ipython3",
   "version": "3.13.3"
  }
 },
 "nbformat": 4,
 "nbformat_minor": 5
}
